{
 "cells": [
  {
   "cell_type": "code",
   "execution_count": 2,
   "metadata": {},
   "outputs": [],
   "source": [
    "import pandas as pd\n",
    "import numpy as np\n",
    "import pandas as pd\n",
    "from sklearn.model_selection import train_test_split\n",
    "from sklearn.ensemble import RandomForestClassifier\n",
    "from sklearn.preprocessing import LabelEncoder\n",
    "from sklearn.metrics import classification_report, accuracy_score\n",
    "import joblib"
   ]
  },
  {
   "cell_type": "code",
   "execution_count": 3,
   "metadata": {},
   "outputs": [
    {
     "name": "stdout",
     "output_type": "stream",
     "text": [
      "              precision    recall  f1-score   support\n",
      "\n",
      "       apple       0.92      0.96      0.94        23\n",
      "      banana       0.88      0.71      0.79        21\n",
      "   blackgram       0.86      0.90      0.88        20\n",
      "    chickpea       1.00      1.00      1.00        26\n",
      "     coconut       0.95      0.74      0.83        27\n",
      "      coffee       0.65      0.65      0.65        17\n",
      "      cotton       0.43      0.59      0.50        17\n",
      "      grapes       0.92      0.86      0.89        14\n",
      "        jute       0.58      0.48      0.52        23\n",
      " kidneybeans       1.00      1.00      1.00        20\n",
      "      lentil       0.35      0.64      0.45        11\n",
      "       maize       0.57      0.57      0.57        21\n",
      "       mango       0.90      0.95      0.92        19\n",
      "   mothbeans       0.87      0.54      0.67        24\n",
      "    mungbean       1.00      0.95      0.97        19\n",
      "   muskmelon       0.61      1.00      0.76        17\n",
      "      orange       0.83      0.71      0.77        14\n",
      "      papaya       0.87      0.87      0.87        23\n",
      "  pigeonpeas       0.63      0.52      0.57        23\n",
      " pomegranate       0.81      0.57      0.67        23\n",
      "        rice       0.73      0.58      0.65        19\n",
      "  watermelon       0.56      0.95      0.71        19\n",
      "\n",
      "    accuracy                           0.76       440\n",
      "   macro avg       0.77      0.76      0.75       440\n",
      "weighted avg       0.79      0.76      0.76       440\n",
      "\n",
      "Accuracy: 0.759090909090909\n"
     ]
    },
    {
     "data": {
      "text/plain": [
       "['label_encoder.pkl']"
      ]
     },
     "execution_count": 3,
     "metadata": {},
     "output_type": "execute_result"
    }
   ],
   "source": [
    "\n",
    "df = pd.read_csv(\"/Users/anjalijha/Downloads/Crop_recommendation.csv\")\n",
    "\n",
    "# Step 2: Preprocess the data\n",
    "X = df[['temperature', 'humidity', 'ph']]\n",
    "y = df['label']\n",
    "\n",
    "# Encode the target labels\n",
    "label_encoder = LabelEncoder()\n",
    "y_encoded = label_encoder.fit_transform(y)\n",
    "\n",
    "# Step 3: Split the data\n",
    "X_train, X_test, y_train, y_test = train_test_split(X, y_encoded, test_size=0.2, random_state=42)\n",
    "\n",
    "# Step 4: Train the model\n",
    "model = RandomForestClassifier(random_state=42)\n",
    "model.fit(X_train, y_train)\n",
    "\n",
    "# Step 5: Evaluate the model\n",
    "y_pred = model.predict(X_test)\n",
    "print(classification_report(y_test, y_pred, target_names=label_encoder.classes_))\n",
    "print(\"Accuracy:\", accuracy_score(y_test, y_pred))\n",
    "\n",
    "# Step 6: Save the model and label encoder\n",
    "joblib.dump(model, 'crop_model.pkl')\n",
    "joblib.dump(label_encoder, 'label_encoder.pkl')"
   ]
  },
  {
   "cell_type": "code",
   "execution_count": 4,
   "metadata": {},
   "outputs": [],
   "source": [
    "df = pd.read_csv(\"/Users/anjalijha/Downloads/Crop_recommendation.csv\")\n",
    "\n",
    "# Step 2: Preprocess the data\n",
    "X = df[['temperature', 'humidity', 'ph']]\n",
    "y = df['label']"
   ]
  },
  {
   "cell_type": "code",
   "execution_count": 7,
   "metadata": {},
   "outputs": [
    {
     "data": {
      "text/plain": [
       "22"
      ]
     },
     "execution_count": 7,
     "metadata": {},
     "output_type": "execute_result"
    }
   ],
   "source": [
    "len(df['label'].unique().tolist())"
   ]
  },
  {
   "cell_type": "code",
   "execution_count": null,
   "metadata": {},
   "outputs": [],
   "source": []
  }
 ],
 "metadata": {
  "kernelspec": {
   "display_name": "mvenv",
   "language": "python",
   "name": "python3"
  },
  "language_info": {
   "codemirror_mode": {
    "name": "ipython",
    "version": 3
   },
   "file_extension": ".py",
   "mimetype": "text/x-python",
   "name": "python",
   "nbconvert_exporter": "python",
   "pygments_lexer": "ipython3",
   "version": "3.12.6"
  }
 },
 "nbformat": 4,
 "nbformat_minor": 2
}
