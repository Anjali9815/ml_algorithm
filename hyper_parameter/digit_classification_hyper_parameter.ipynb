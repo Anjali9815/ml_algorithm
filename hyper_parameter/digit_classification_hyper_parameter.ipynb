{
 "cells": [
  {
   "cell_type": "markdown",
   "metadata": {},
   "source": [
    "For digit dataset try following classifiers and find out the one that gives best result also find the best parameter\n",
    "svm\n",
    "random forest\n",
    "logistic regression\n",
    "guassianNB\n",
    "multinomialNB\n",
    "DecisionTreeClassifier"
   ]
  },
  {
   "cell_type": "code",
   "execution_count": null,
   "metadata": {
    "vscode": {
     "languageId": "plaintext"
    }
   },
   "outputs": [],
   "source": []
  }
 ],
 "metadata": {
  "language_info": {
   "name": "python"
  }
 },
 "nbformat": 4,
 "nbformat_minor": 2
}
