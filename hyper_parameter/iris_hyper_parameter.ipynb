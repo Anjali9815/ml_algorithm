{
 "cells": [
  {
   "cell_type": "code",
   "execution_count": null,
   "metadata": {},
   "outputs": [],
   "source": [
    "import pandas as pd\n",
    "from sklearn.datasets import load_iris\n",
    "iris = load_iris()"
   ]
  },
  {
   "cell_type": "code",
   "execution_count": null,
   "metadata": {},
   "outputs": [],
   "source": [
    "dir(iris)"
   ]
  },
  {
   "cell_type": "code",
   "execution_count": null,
   "metadata": {},
   "outputs": [],
   "source": [
    "iris.target_names\n",
    "# iris.feature_names"
   ]
  },
  {
   "cell_type": "code",
   "execution_count": null,
   "metadata": {},
   "outputs": [],
   "source": [
    "df = pd.DataFrame(iris.data, columns= iris.feature_names)\n",
    "df['flower'] = iris.target\n",
    "df['flower'] = df['flower'].apply(lambda x : iris.target_names[x])\n",
    "df.head(5)"
   ]
  },
  {
   "cell_type": "code",
   "execution_count": null,
   "metadata": {},
   "outputs": [],
   "source": [
    "from sklearn.model_selection import train_test_split\n",
    "x_train, x_test, y_train, y_test = train_test_split(iris.data, iris.target, test_size= 0.25)"
   ]
  },
  {
   "cell_type": "code",
   "execution_count": null,
   "metadata": {},
   "outputs": [],
   "source": [
    "from sklearn.svm import SVC\n",
    "model =SVC()\n",
    "model = SVC(kernel= \"rbf\", C= 30, gamma= \"auto\")\n",
    "model.fit(x_train, y_train)\n",
    "model.score(x_test, y_test)"
   ]
  },
  {
   "cell_type": "code",
   "execution_count": null,
   "metadata": {},
   "outputs": [],
   "source": [
    "from sklearn.model_selection import cross_val_score\n",
    "cross_val_score(SVC(kernel= \"linear\", C=10, gamma= \"auto\"), iris.data, iris.target, cv= 5)"
   ]
  },
  {
   "cell_type": "code",
   "execution_count": null,
   "metadata": {},
   "outputs": [],
   "source": [
    "cross_val_score(SVC(kernel= \"rbf\", C=10, gamma= \"auto\"), iris.data, iris.target, cv= 5)"
   ]
  },
  {
   "cell_type": "code",
   "execution_count": null,
   "metadata": {},
   "outputs": [],
   "source": [
    "cross_val_score(SVC(kernel= \"rbf\", C=20, gamma= \"auto\"), iris.data, iris.target, cv= 5)"
   ]
  },
  {
   "cell_type": "code",
   "execution_count": null,
   "metadata": {},
   "outputs": [],
   "source": [
    "kernels = ['rbf', 'linear']\n",
    "c = [1, 10, 20, 30]\n",
    "avg_score = {}\n",
    "import numpy as np\n",
    "for kval in kernels:\n",
    "    for cval in c:\n",
    "        cv_score = cross_val_score(SVC(kernel = kval, C = cval, gamma = \"auto\"), iris.data, iris.target, cv = 5)\n",
    "        avg_score[kval + \"_\" + str(cval)]= np.average(cv_score)\n",
    "\n",
    "avg_score"
   ]
  },
  {
   "cell_type": "code",
   "execution_count": null,
   "metadata": {},
   "outputs": [],
   "source": [
    "# in above case the time complexity is O(n2)\n",
    "# so this is not a good approach as many time s the iteration is going to increase\n",
    "# instead of this gridsearch csv can be used"
   ]
  },
  {
   "cell_type": "code",
   "execution_count": null,
   "metadata": {},
   "outputs": [],
   "source": [
    "from sklearn.model_selection import GridSearchCV\n",
    "\n",
    "gd = GridSearchCV(SVC(gamma=\"auto\"), {'C' : [1,10,2, 20], 'kernel' : ['linear', 'rbf', 'poly']}, cv = 5, return_train_score = False)\n",
    "\n",
    "gd.fit(iris.data, iris.target)\n",
    "gd.cv_results_\n"
   ]
  },
  {
   "cell_type": "code",
   "execution_count": null,
   "metadata": {},
   "outputs": [],
   "source": [
    "gridsearchdf = pd.DataFrame(gd.cv_results_)\n",
    "gridsearchdf[['params', 'mean_test_score']]"
   ]
  },
  {
   "cell_type": "code",
   "execution_count": null,
   "metadata": {},
   "outputs": [],
   "source": [
    "gd.best_params_"
   ]
  },
  {
   "cell_type": "code",
   "execution_count": null,
   "metadata": {},
   "outputs": [],
   "source": [
    "gd.best_score_"
   ]
  },
  {
   "cell_type": "code",
   "execution_count": null,
   "metadata": {},
   "outputs": [],
   "source": [
    "# As grid search uses permutation and combination ver all the given values and then we get the best score\n",
    "#so to tackle this randomised search CV is used it randomly uses value and the best score is returned\n",
    "#but this generates random score every time \n",
    "\n",
    "from sklearn.model_selection import RandomizedSearchCV\n",
    "\n",
    "rd = RandomizedSearchCV(SVC(gamma=\"auto\"), {'C' : [1,10,2, 20], 'kernel' : ['linear', 'rbf', 'poly']}, cv = 5, return_train_score = False, n_iter= 2)\n",
    "\n",
    "rd.fit(iris.data, iris.target)\n",
    "rd.cv_results_\n",
    "\n",
    "rd_Df = pd.DataFrame(rd.cv_results_)[['mean_test_score', 'params']]\n",
    "rd_Df\n"
   ]
  },
  {
   "cell_type": "code",
   "execution_count": null,
   "metadata": {},
   "outputs": [],
   "source": [
    "rd.best_score_"
   ]
  },
  {
   "cell_type": "code",
   "execution_count": null,
   "metadata": {},
   "outputs": [],
   "source": [
    "rd.best_params_"
   ]
  }
 ],
 "metadata": {
  "kernelspec": {
   "display_name": "venv",
   "language": "python",
   "name": "python3"
  },
  "language_info": {
   "codemirror_mode": {
    "name": "ipython",
    "version": 3
   },
   "file_extension": ".py",
   "mimetype": "text/x-python",
   "name": "python",
   "nbconvert_exporter": "python",
   "pygments_lexer": "ipython3",
   "version": "3.10.7"
  },
  "orig_nbformat": 4
 },
 "nbformat": 4,
 "nbformat_minor": 2
}
