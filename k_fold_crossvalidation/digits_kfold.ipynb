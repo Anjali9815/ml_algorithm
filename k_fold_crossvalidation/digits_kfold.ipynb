{
 "cells": [
  {
   "cell_type": "code",
   "execution_count": 1,
   "metadata": {},
   "outputs": [],
   "source": [
    "from sklearn.datasets import load_digits\n",
    "from sklearn.linear_model import LogisticRegression\n",
    "from sklearn.ensemble import RandomForestClassifier\n",
    "from sklearn.svm import SVC\n",
    "import numpy as np\n",
    "import pandas as pd\n",
    "import warnings\n",
    "warnings.filterwarnings(\"ignore\")\n",
    "digits = load_digits()\n"
   ]
  },
  {
   "cell_type": "code",
   "execution_count": 2,
   "metadata": {},
   "outputs": [],
   "source": [
    "from sklearn.model_selection import train_test_split\n",
    "x_train, x_test, y_train, y_test = train_test_split(digits.data, digits.target, test_size= 0.3)"
   ]
  },
  {
   "cell_type": "code",
   "execution_count": 3,
   "metadata": {},
   "outputs": [
    {
     "data": {
      "text/plain": [
       "0.9592592592592593"
      ]
     },
     "execution_count": 3,
     "metadata": {},
     "output_type": "execute_result"
    }
   ],
   "source": [
    "lr = LogisticRegression()\n",
    "lr.fit(x_train, y_train)\n",
    "lr.score(x_test, y_test)"
   ]
  },
  {
   "cell_type": "code",
   "execution_count": 4,
   "metadata": {},
   "outputs": [
    {
     "data": {
      "text/plain": [
       "0.9611111111111111"
      ]
     },
     "execution_count": 4,
     "metadata": {},
     "output_type": "execute_result"
    }
   ],
   "source": [
    "rf = RandomForestClassifier()\n",
    "rf.fit(x_train, y_train)\n",
    "rf.score(x_test, y_test)"
   ]
  },
  {
   "cell_type": "code",
   "execution_count": 5,
   "metadata": {},
   "outputs": [
    {
     "data": {
      "text/plain": [
       "0.9796296296296296"
      ]
     },
     "execution_count": 5,
     "metadata": {},
     "output_type": "execute_result"
    }
   ],
   "source": [
    "svm = SVC()\n",
    "svm.fit(x_train, y_train)\n",
    "svm.score(x_test, y_test)"
   ]
  },
  {
   "cell_type": "code",
   "execution_count": 35,
   "metadata": {},
   "outputs": [],
   "source": [
    "from sklearn.model_selection import KFold\n",
    "kf = KFold(n_splits= 3)\n"
   ]
  },
  {
   "cell_type": "code",
   "execution_count": 32,
   "metadata": {},
   "outputs": [
    {
     "name": "stdout",
     "output_type": "stream",
     "text": [
      "[2 3 4 5] [0 1]\n",
      "[0 1 3 4 5] [2]\n",
      "[0 1 2 4 5] [3]\n",
      "[0 1 2 3 5] [4]\n",
      "[0 1 2 3 4] [5]\n"
     ]
    }
   ],
   "source": [
    "# logic of kfold\n",
    "kf1 = KFold(n_splits= 5)\n",
    "for train, test in kf1.split([0,1,2,3,4,5]):\n",
    "    print(train, test)"
   ]
  },
  {
   "cell_type": "code",
   "execution_count": 31,
   "metadata": {},
   "outputs": [],
   "source": [
    "def model_eval(model, x_train, x_test, y_train, y_test):\n",
    "    model.fit(x_train, y_train)\n",
    "    return model.score(x_test, y_test)"
   ]
  },
  {
   "cell_type": "code",
   "execution_count": 36,
   "metadata": {},
   "outputs": [
    {
     "name": "stdout",
     "output_type": "stream",
     "text": [
      "logistic score [0.9232053422370617, 0.9415692821368948, 0.9148580968280468]\n",
      "RandomForestClassifier score [0.9298831385642737, 0.9549248747913188, 0.9181969949916527]\n",
      "SVC [0.9666110183639399, 0.9816360601001669, 0.9549248747913188]\n"
     ]
    }
   ],
   "source": [
    "from sklearn.model_selection import StratifiedKFold\n",
    "folds = StratifiedKFold(n_splits= 4)\n",
    "score_l = []\n",
    "score_random =[]\n",
    "score_svc = []\n",
    "\n",
    "for train, test in kf.split(digits.data):\n",
    "    x_train, x_test, y_train, y_test = digits.data[train], digits.data[test], digits.target[train], digits.target[test]\n",
    "    score_l.append(model_eval(LogisticRegression(), x_train, x_test, y_train, y_test))\n",
    "    score_random.append(model_eval(RandomForestClassifier(), x_train, x_test, y_train, y_test))\n",
    "    score_svc.append(model_eval(SVC(), x_train, x_test, y_train, y_test))\n",
    "print(\"logistic score\", score_l)\n",
    "print(\"RandomForestClassifier score\", score_random)\n",
    "print(\"SVC\", score_svc)\n"
   ]
  },
  {
   "cell_type": "code",
   "execution_count": 37,
   "metadata": {},
   "outputs": [],
   "source": [
    "from sklearn.model_selection import cross_val_score"
   ]
  },
  {
   "cell_type": "code",
   "execution_count": 38,
   "metadata": {},
   "outputs": [
    {
     "data": {
      "text/plain": [
       "array([0.92222222, 0.86944444, 0.94150418, 0.93871866, 0.89693593])"
      ]
     },
     "execution_count": 38,
     "metadata": {},
     "output_type": "execute_result"
    }
   ],
   "source": [
    "cross_val_score(LogisticRegression(), digits.data, digits.target)"
   ]
  },
  {
   "cell_type": "code",
   "execution_count": 39,
   "metadata": {},
   "outputs": [
    {
     "data": {
      "text/plain": [
       "array([0.93611111, 0.90277778, 0.95821727, 0.95821727, 0.93314763])"
      ]
     },
     "execution_count": 39,
     "metadata": {},
     "output_type": "execute_result"
    }
   ],
   "source": [
    "cross_val_score(RandomForestClassifier(), digits.data, digits.target)"
   ]
  },
  {
   "cell_type": "code",
   "execution_count": 40,
   "metadata": {},
   "outputs": [
    {
     "data": {
      "text/plain": [
       "array([0.96111111, 0.94444444, 0.98328691, 0.98885794, 0.93871866])"
      ]
     },
     "execution_count": 40,
     "metadata": {},
     "output_type": "execute_result"
    }
   ],
   "source": [
    "cross_val_score(SVC(), digits.data, digits.target)"
   ]
  },
  {
   "cell_type": "code",
   "execution_count": 44,
   "metadata": {},
   "outputs": [
    {
     "name": "stdout",
     "output_type": "stream",
     "text": [
      "10 [0.89166667 0.81944444 0.91086351 0.93871866 0.88857939]\n",
      "20 [0.94166667 0.88611111 0.93314763 0.96935933 0.90529248]\n",
      "30 [0.91944444 0.89722222 0.9637883  0.9637883  0.91643454]\n",
      "40 [0.92222222 0.92222222 0.94986072 0.95543175 0.91364903]\n",
      "50 [0.93333333 0.89722222 0.95543175 0.95543175 0.93314763]\n",
      "70 [0.93611111 0.91944444 0.94986072 0.95543175 0.92200557]\n",
      "90 [0.92777778 0.91944444 0.96657382 0.95543175 0.91643454]\n"
     ]
    }
   ],
   "source": [
    "print(\"10\", cross_val_score(RandomForestClassifier(10), digits.data, digits.target))\n",
    "print(\"20\", cross_val_score(RandomForestClassifier(20), digits.data, digits.target))\n",
    "print(\"30\", cross_val_score(RandomForestClassifier(30), digits.data, digits.target))\n",
    "print(\"40\", cross_val_score(RandomForestClassifier(40), digits.data, digits.target))\n",
    "print(\"50\", cross_val_score(RandomForestClassifier(50), digits.data, digits.target))\n",
    "print(\"70\", cross_val_score(RandomForestClassifier(70), digits.data, digits.target))\n",
    "print(\"90\", cross_val_score(RandomForestClassifier(90), digits.data, digits.target))"
   ]
  },
  {
   "cell_type": "code",
   "execution_count": null,
   "metadata": {},
   "outputs": [],
   "source": []
  }
 ],
 "metadata": {
  "kernelspec": {
   "display_name": "venv",
   "language": "python",
   "name": "python3"
  },
  "language_info": {
   "codemirror_mode": {
    "name": "ipython",
    "version": 3
   },
   "file_extension": ".py",
   "mimetype": "text/x-python",
   "name": "python",
   "nbconvert_exporter": "python",
   "pygments_lexer": "ipython3",
   "version": "3.10.7"
  },
  "orig_nbformat": 4
 },
 "nbformat": 4,
 "nbformat_minor": 2
}
