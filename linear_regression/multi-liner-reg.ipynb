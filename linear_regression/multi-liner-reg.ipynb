{
 "cells": [
  {
   "cell_type": "code",
   "execution_count": null,
   "id": "89698f1f",
   "metadata": {},
   "outputs": [],
   "source": [
    "import pandas as pd\n",
    "import numpy as np\n",
    "from sklearn import linear_model"
   ]
  },
  {
   "cell_type": "code",
   "execution_count": null,
   "id": "6797cab3",
   "metadata": {},
   "outputs": [],
   "source": [
    "df = pd.read_csv(\"house_price.csv\")"
   ]
  },
  {
   "cell_type": "code",
   "execution_count": null,
   "id": "89a02eca",
   "metadata": {},
   "outputs": [],
   "source": [
    "df"
   ]
  },
  {
   "cell_type": "code",
   "execution_count": null,
   "id": "c119b74a",
   "metadata": {},
   "outputs": [],
   "source": [
    "# handling na \n",
    "import math\n",
    "median_bedroom = math.floor(df.bedrooms.median())\n",
    "median_bedroom"
   ]
  },
  {
   "cell_type": "code",
   "execution_count": null,
   "id": "0c6fb9e1",
   "metadata": {},
   "outputs": [],
   "source": [
    "df.bedrooms.fillna(median_bedroom, inplace = True)"
   ]
  },
  {
   "cell_type": "code",
   "execution_count": null,
   "id": "25644b59",
   "metadata": {},
   "outputs": [],
   "source": [
    "df"
   ]
  },
  {
   "cell_type": "code",
   "execution_count": null,
   "id": "b9f799d3",
   "metadata": {},
   "outputs": [],
   "source": [
    "reg = linear_model.LinearRegression()\n",
    "reg.fit(df[['area', 'bedrooms', 'age']], df.price)"
   ]
  },
  {
   "cell_type": "code",
   "execution_count": null,
   "id": "8642398d",
   "metadata": {},
   "outputs": [],
   "source": [
    "reg.coef_"
   ]
  },
  {
   "cell_type": "code",
   "execution_count": null,
   "id": "802e2b2c",
   "metadata": {},
   "outputs": [],
   "source": [
    "reg.intercept_"
   ]
  },
  {
   "cell_type": "code",
   "execution_count": null,
   "id": "058e11d5",
   "metadata": {},
   "outputs": [],
   "source": [
    "reg.predict([[3000, 3, 40]])"
   ]
  },
  {
   "cell_type": "code",
   "execution_count": null,
   "id": "31a5a4b3",
   "metadata": {},
   "outputs": [],
   "source": [
    "df['predicted_op'] = reg.predict(df[['area', 'bedrooms', 'age']])"
   ]
  },
  {
   "cell_type": "code",
   "execution_count": null,
   "id": "6763a47f",
   "metadata": {},
   "outputs": [],
   "source": [
    "df"
   ]
  },
  {
   "cell_type": "code",
   "execution_count": null,
   "id": "af2f4de0",
   "metadata": {},
   "outputs": [],
   "source": [
    "df['diff'] = df['price'] - df['predicted_op']\n",
    "df"
   ]
  },
  {
   "cell_type": "markdown",
   "id": "82edb6d4",
   "metadata": {},
   "source": [
    "Exercise"
   ]
  },
  {
   "cell_type": "code",
   "execution_count": null,
   "id": "6e77b481",
   "metadata": {},
   "outputs": [],
   "source": [
    "df1 = pd.read_csv('hiring_data.csv')\n",
    "df1"
   ]
  },
  {
   "cell_type": "code",
   "execution_count": null,
   "id": "fb43381b",
   "metadata": {},
   "outputs": [],
   "source": [
    "from word2number import w2n"
   ]
  },
  {
   "cell_type": "code",
   "execution_count": null,
   "id": "c0557ce1",
   "metadata": {},
   "outputs": [],
   "source": [
    "df1['experience'] = df1['experience'].fillna(\"zero\")\n",
    "df1['experience_1'] = df1.experience.apply(w2n.word_to_num)"
   ]
  },
  {
   "cell_type": "code",
   "execution_count": null,
   "id": "bc549c47",
   "metadata": {},
   "outputs": [],
   "source": [
    "df1"
   ]
  },
  {
   "cell_type": "code",
   "execution_count": null,
   "id": "b2bfbefc",
   "metadata": {},
   "outputs": [],
   "source": [
    "df1['test_score(out of 10)'].fillna(df1['test_score(out of 10)'].median(), inplace= True)\n",
    "df1"
   ]
  },
  {
   "cell_type": "code",
   "execution_count": null,
   "id": "626ce370",
   "metadata": {},
   "outputs": [],
   "source": [
    "reg = linear_model.LinearRegression()\n",
    "reg.fit(df1[['experience_1', 'test_score(out of 10)', 'interview_score(out of 10)']], df1['salary($)'])"
   ]
  },
  {
   "cell_type": "code",
   "execution_count": null,
   "id": "7d7757b7",
   "metadata": {},
   "outputs": [],
   "source": [
    "df1['pred_sal'] = reg.predict(df1[['experience_1', 'test_score(out of 10)', 'interview_score(out of 10)']])\n",
    "df1\n"
   ]
  },
  {
   "cell_type": "code",
   "execution_count": null,
   "id": "942b8ebc",
   "metadata": {},
   "outputs": [],
   "source": [
    "df1['diff'] = df1['salary($)'] - df1['pred_sal']\n",
    "df1"
   ]
  },
  {
   "cell_type": "code",
   "execution_count": null,
   "id": "5a0f1496",
   "metadata": {},
   "outputs": [],
   "source": []
  }
 ],
 "metadata": {
  "kernelspec": {
   "display_name": "Python 3 (ipykernel)",
   "language": "python",
   "name": "python3"
  },
  "language_info": {
   "codemirror_mode": {
    "name": "ipython",
    "version": 3
   },
   "file_extension": ".py",
   "mimetype": "text/x-python",
   "name": "python",
   "nbconvert_exporter": "python",
   "pygments_lexer": "ipython3",
   "version": "3.10.7"
  }
 },
 "nbformat": 4,
 "nbformat_minor": 5
}
