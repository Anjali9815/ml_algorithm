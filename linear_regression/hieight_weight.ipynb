{
 "cells": [
  {
   "cell_type": "code",
   "execution_count": null,
   "id": "9c6bd53b",
   "metadata": {},
   "outputs": [],
   "source": [
    "import pandas as pd\n",
    "import numpy as np\n",
    "import matplotlib.pyplot as plt\n",
    "%matplotlib inline"
   ]
  },
  {
   "cell_type": "code",
   "execution_count": null,
   "id": "743b2623",
   "metadata": {},
   "outputs": [],
   "source": [
    "df = pd.read_csv('weight-height.csv')\n",
    "df.head(5)"
   ]
  },
  {
   "cell_type": "code",
   "execution_count": null,
   "id": "3684786c",
   "metadata": {},
   "outputs": [],
   "source": [
    "df.info()"
   ]
  },
  {
   "cell_type": "code",
   "execution_count": null,
   "id": "d0d78e0d",
   "metadata": {
    "scrolled": true
   },
   "outputs": [],
   "source": [
    "# inch = 2.54cm lbs = 0.45359237\n",
    "df['Height'] = df['Height'].apply(lambda x : x*2.54)\n",
    "df['Weight'] = df['Weight'].apply(lambda x : x*0.45359237)\n",
    "df.head(5)"
   ]
  },
  {
   "cell_type": "code",
   "execution_count": null,
   "id": "40802b2f",
   "metadata": {},
   "outputs": [],
   "source": [
    "plt.xlabel(\"height in cm\")\n",
    "plt.ylabel(\"weight in cm\")\n",
    "plt.scatter(df.Height, df.Weight, color = \"yellow\", marker = \"*\")\n",
    "plt.plot(df.Height, df.predicted_weight, color = \"blue\")"
   ]
  },
  {
   "cell_type": "code",
   "execution_count": null,
   "id": "fe900aee",
   "metadata": {},
   "outputs": [],
   "source": [
    "from sklearn import linear_model"
   ]
  },
  {
   "cell_type": "code",
   "execution_count": null,
   "id": "1e06a591",
   "metadata": {},
   "outputs": [],
   "source": [
    "model = linear_model.LinearRegression()"
   ]
  },
  {
   "cell_type": "code",
   "execution_count": null,
   "id": "ae77ca41",
   "metadata": {},
   "outputs": [],
   "source": [
    "model.fit(df[['Height']], df.Weight)"
   ]
  },
  {
   "cell_type": "code",
   "execution_count": null,
   "id": "565beb04",
   "metadata": {},
   "outputs": [],
   "source": [
    "model.coef_"
   ]
  },
  {
   "cell_type": "code",
   "execution_count": null,
   "id": "1f1e6374",
   "metadata": {},
   "outputs": [],
   "source": [
    "model.intercept_"
   ]
  },
  {
   "cell_type": "code",
   "execution_count": null,
   "id": "7d3bfe0f",
   "metadata": {},
   "outputs": [],
   "source": [
    "model.predict([[178]])"
   ]
  },
  {
   "cell_type": "code",
   "execution_count": null,
   "id": "81cd7824",
   "metadata": {},
   "outputs": [],
   "source": [
    "df['predicted_weight'] = model.predict(df[['Height']])"
   ]
  },
  {
   "cell_type": "code",
   "execution_count": null,
   "id": "4b34dc79",
   "metadata": {},
   "outputs": [],
   "source": [
    "df"
   ]
  },
  {
   "cell_type": "code",
   "execution_count": null,
   "id": "5aa86319",
   "metadata": {},
   "outputs": [],
   "source": [
    "df['diff'] = df['Weight'] - df['predicted_weight']\n",
    "df"
   ]
  },
  {
   "cell_type": "code",
   "execution_count": null,
   "id": "13f63ebf",
   "metadata": {},
   "outputs": [],
   "source": []
  }
 ],
 "metadata": {
  "kernelspec": {
   "display_name": "Python 3 (ipykernel)",
   "language": "python",
   "name": "python3"
  },
  "language_info": {
   "codemirror_mode": {
    "name": "ipython",
    "version": 3
   },
   "file_extension": ".py",
   "mimetype": "text/x-python",
   "name": "python",
   "nbconvert_exporter": "python",
   "pygments_lexer": "ipython3",
   "version": "3.10.7"
  }
 },
 "nbformat": 4,
 "nbformat_minor": 5
}
