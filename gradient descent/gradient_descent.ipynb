{
 "cells": [
  {
   "cell_type": "code",
   "execution_count": null,
   "id": "1c11a33a",
   "metadata": {},
   "outputs": [],
   "source": [
    "import math\n",
    "import numpy as np"
   ]
  },
  {
   "cell_type": "code",
   "execution_count": null,
   "id": "4afc24bf",
   "metadata": {},
   "outputs": [],
   "source": [
    "x = np.array([1,2,3,4,5])\n",
    "y = np.array([5,7,9,11, 13])"
   ]
  },
  {
   "cell_type": "code",
   "execution_count": null,
   "id": "56c4438b",
   "metadata": {},
   "outputs": [],
   "source": [
    "def gradient_descent(x,y):\n",
    "    learning_rate = 0.0001\n",
    "    m_curr = b_curr = 0\n",
    "    iteration = 1000\n",
    "    n = len(x)\n",
    "    cost_fi = 0\n",
    "    for i in range(iteration):\n",
    "        y_pred = m_curr * x + b_curr\n",
    "        mse = (1/n) * sum(val**2 for val in (y-y_pred))\n",
    "        \n",
    "\n",
    "        \n",
    "        md = -(2/n) * sum(x*(y-y_pred))\n",
    "        bd = -(2/n) * sum(y * y_pred)\n",
    "        \n",
    "        m_curr = m_curr - learning_rate * md\n",
    "        b_curr = b_curr -learning_rate * bd\n",
    "        print(\"m {}, b{}, mse {}, iteration {}\".format(m_curr, b_curr, mse, i))\n",
    "        if round(mse, 2) == round(cost_fi, 2):\n",
    "            print(\"done...\")\n",
    "            break\n",
    "    "
   ]
  },
  {
   "cell_type": "code",
   "execution_count": null,
   "id": "fce5407b",
   "metadata": {},
   "outputs": [],
   "source": [
    "gradient_descent(x,y)"
   ]
  },
  {
   "cell_type": "code",
   "execution_count": null,
   "id": "686c7adb",
   "metadata": {},
   "outputs": [],
   "source": []
  }
 ],
 "metadata": {
  "kernelspec": {
   "display_name": "Python 3 (ipykernel)",
   "language": "python",
   "name": "python3"
  },
  "language_info": {
   "codemirror_mode": {
    "name": "ipython",
    "version": 3
   },
   "file_extension": ".py",
   "mimetype": "text/x-python",
   "name": "python",
   "nbconvert_exporter": "python",
   "pygments_lexer": "ipython3",
   "version": "3.10.7"
  }
 },
 "nbformat": 4,
 "nbformat_minor": 5
}
